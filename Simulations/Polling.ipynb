{
 "cells": [
  {
   "cell_type": "markdown",
   "metadata": {},
   "source": [
    "# Polling\n",
    "\n",
    "In Nate Silver's book, [The Signal and the Noise](https://www.amazon.com/Signal-Noise-Many-Predictions-Fail-but/dp/0143125087/), he examines several reasons why the business of making forecasts is a subtle and difficult propisistion.  One place where forecasts are notoriously problematic is in polling.  Theoretically a well done poll should make a good prediction of how a vote will turn out.  In reality, many biases and systematic errors effect polls.  When polling is done well, there's still a strong lag effect, where even two months out a good poll becomes very noisy.  \n",
    "\n",
    "### In this simulation, I want to examine potential polling errors.\n",
    "\n",
    "- Given a sample size N, what is the expected error?\n",
    "- Given a sample size N, and binomial distribution, how good do we expect the estimated mean to be? \n",
    "- Given a sample size N, and a 10% error rate, what is the expected error?\n",
    "- Given a sample size N, and a stochastic error, how good do we expect the estimated mean to be?\n",
    "- How do the above quantities vary with sample size and number of trials?\n",
    "\n",
    "### Goals\n",
    "\n",
    "- Show that repeated ideal polling trials (with N = 100 people) produce estimates of the real mean and standard deviation\n",
    "- Examine repeated polling trials (with N = 100 people) with added stochastic noise\n",
    "\n",
    "### Conclusions\n",
    "\n",
    "- If we increase the number of people polled, the expected percent error in the poll goes doesn as $\\sqrt{N}$\n",
    "- Simulatng trials from a stochastic noise model yields valid estimates of the new mixed distribution\n"
   ]
  },
  {
   "cell_type": "code",
   "execution_count": 1,
   "metadata": {},
   "outputs": [],
   "source": [
    "import numpy as np\n",
    "import pandas as pd\n",
    "import matplotlib.pyplot as plt"
   ]
  },
  {
   "cell_type": "markdown",
   "metadata": {},
   "source": [
    "### What is the experiment?\n",
    "\n",
    "- if we're polling a population with a simple yes/no response we expect to have a binomial distribution\n",
    "- it's easy to directly sample this with binomial(n,p,return_value)\n",
    "- however, I also want to enable simulating an error in the sampling, so I'm adding a stochastic sampling from a binomial with n = 1; p = 0.5 "
   ]
  },
  {
   "cell_type": "code",
   "execution_count": 4,
   "metadata": {},
   "outputs": [],
   "source": [
    "# Function to get a sample from an approximatley binomial distribution\n",
    "def get_sample(n=50, p=0.7, error=0.1):\n",
    "    def _sample():\n",
    "        if np.random.random()>error:\n",
    "            return np.random.binomial(1,p)\n",
    "        else:\n",
    "            return np.random.binomial(1,0.5)\n",
    "    return [_sample() for i in range(n)]"
   ]
  },
  {
   "cell_type": "markdown",
   "metadata": {},
   "source": [
    "### Looking at the Sample Mean\n",
    "\n",
    "- if we poll N people, how accurate should we expect this poll to be?\n",
    "- If the distribution is binomial, the sample mean is an estimate for the true mean $np$ with a standard deviation of $\\sqrt{npq}$"
   ]
  },
  {
   "cell_type": "code",
   "execution_count": 76,
   "metadata": {},
   "outputs": [
    {
     "name": "stdout",
     "output_type": "stream",
     "text": [
      "Expected Sample Mean: 7.00\n",
      "Expected Sample Std:  1.45\n",
      "Standard deviation as a percent: +/- 0.14\n"
     ]
    }
   ],
   "source": [
    "# Let's calcualte the expected sample mean and the expected standard deviation\n",
    "# We'll start with N = 10 people => 14% error expected in the poll estimate of the mean\n",
    "N = 10\n",
    "p = 0.7\n",
    "_smean0 = N*p\n",
    "_sstd0 = np.sqrt(N*p*(1-p))\n",
    "print(\"Expected Sample Mean: {0:2.2f}\".format(_smean0))\n",
    "print(\"Expected Sample Std:  {0:2.2f}\".format(_sstd0))\n",
    "print(\"Standard deviation as a percent: +/- {0:2.2f}\".format(_sstd0/N))"
   ]
  },
  {
   "cell_type": "code",
   "execution_count": 79,
   "metadata": {},
   "outputs": [
    {
     "name": "stdout",
     "output_type": "stream",
     "text": [
      "Expected Sample Mean: 70.00\n",
      "Expected Sample Std:  4.58\n",
      "Standard deviation as a percent: +/- 0.05\n"
     ]
    }
   ],
   "source": [
    "# Let's calcualte this again with 100 people\n",
    "# => 5% error expected in the estimate\n",
    "N = 100\n",
    "p = 0.7\n",
    "_smean = N*p\n",
    "_sstd = np.sqrt(N*p*(1-p))\n",
    "print(\"Expected Sample Mean: {0:2.2f}\".format(_smean))\n",
    "print(\"Expected Sample Std:  {0:2.2f}\".format(_sstd))\n",
    "print(\"Standard deviation as a percent: +/- {0:2.2f}\".format(_sstd/N))"
   ]
  },
  {
   "cell_type": "code",
   "execution_count": 6,
   "metadata": {},
   "outputs": [],
   "source": [
    "# Ok, lets look at a sample, with no systematic polling error (error = 0)\n",
    "s1 = pd.DataFrame( {'sample1' : get_sample(n=N, p=p, error=0.0)})"
   ]
  },
  {
   "cell_type": "code",
   "execution_count": 7,
   "metadata": {},
   "outputs": [
    {
     "data": {
      "text/html": [
       "<div>\n",
       "<style scoped>\n",
       "    .dataframe tbody tr th:only-of-type {\n",
       "        vertical-align: middle;\n",
       "    }\n",
       "\n",
       "    .dataframe tbody tr th {\n",
       "        vertical-align: top;\n",
       "    }\n",
       "\n",
       "    .dataframe thead th {\n",
       "        text-align: right;\n",
       "    }\n",
       "</style>\n",
       "<table border=\"1\" class=\"dataframe\">\n",
       "  <thead>\n",
       "    <tr style=\"text-align: right;\">\n",
       "      <th></th>\n",
       "      <th>sample1</th>\n",
       "    </tr>\n",
       "  </thead>\n",
       "  <tbody>\n",
       "    <tr>\n",
       "      <th>0</th>\n",
       "      <td>1</td>\n",
       "    </tr>\n",
       "    <tr>\n",
       "      <th>1</th>\n",
       "      <td>1</td>\n",
       "    </tr>\n",
       "    <tr>\n",
       "      <th>2</th>\n",
       "      <td>1</td>\n",
       "    </tr>\n",
       "    <tr>\n",
       "      <th>3</th>\n",
       "      <td>1</td>\n",
       "    </tr>\n",
       "    <tr>\n",
       "      <th>4</th>\n",
       "      <td>1</td>\n",
       "    </tr>\n",
       "  </tbody>\n",
       "</table>\n",
       "</div>"
      ],
      "text/plain": [
       "   sample1\n",
       "0        1\n",
       "1        1\n",
       "2        1\n",
       "3        1\n",
       "4        1"
      ]
     },
     "execution_count": 7,
     "metadata": {},
     "output_type": "execute_result"
    }
   ],
   "source": [
    "# What does the data look like:\n",
    "s1.head()"
   ]
  },
  {
   "cell_type": "code",
   "execution_count": 8,
   "metadata": {},
   "outputs": [
    {
     "data": {
      "text/plain": [
       "67"
      ]
     },
     "execution_count": 8,
     "metadata": {},
     "output_type": "execute_result"
    }
   ],
   "source": [
    "# This is our poll mean, which can be considerd as equivalent to an estimate for percentage with N = 100\n",
    "s1.sample1.sum()"
   ]
  },
  {
   "cell_type": "code",
   "execution_count": 72,
   "metadata": {},
   "outputs": [
    {
     "name": "stdout",
     "output_type": "stream",
     "text": [
      "Expected Sample Mean: 700.00\n",
      "Expected Sample Std:  14.49\n",
      "Standard deviation as a percent: +/- 0.01\n"
     ]
    }
   ],
   "source": [
    "# How would this result differ if we polled N=1000 people?\n",
    "# In this case the expected error goes to 1%\n",
    "N = 1000\n",
    "p = 0.7\n",
    "_smean2 = N*p\n",
    "_sstd2 = np.sqrt(N*p*(1-p))\n",
    "print(\"Expected Sample Mean: {0:2.2f}\".format(_smean2))\n",
    "print(\"Expected Sample Std:  {0:2.2f}\".format(_sstd2))\n",
    "print(\"Standard deviation as a percent: +/- {0:2.2f}\".format(_sstd2/N))"
   ]
  },
  {
   "cell_type": "code",
   "execution_count": 78,
   "metadata": {},
   "outputs": [
    {
     "name": "stdout",
     "output_type": "stream",
     "text": [
      "Expected Sample Mean: 7000.00\n",
      "Expected Sample Std:  45.83\n",
      "Standard deviation as a percent: +/- 0.0046\n"
     ]
    }
   ],
   "source": [
    "# Let's do this one more time.  How would this result differ if we polled N=10000 people?\n",
    "# The error is now about half a percent\n",
    "N = 10000\n",
    "p = 0.7\n",
    "_smean3 = N*p\n",
    "_sstd3 = np.sqrt(N*p*(1-p))\n",
    "print(\"Expected Sample Mean: {0:2.2f}\".format(_smean3))\n",
    "print(\"Expected Sample Std:  {0:2.2f}\".format(_sstd3))\n",
    "print(\"Standard deviation as a percent: +/- {0:2.4f}\".format(_sstd3/N))"
   ]
  },
  {
   "cell_type": "markdown",
   "metadata": {},
   "source": [
    "### Estimating the true population mean\n",
    "\n",
    "If we take repeated samples, we can see how our well our estimate converges to the true mean.\n",
    "For example, if we do 50 polls, we'd expecte the error of the sample mean to be $\\sigma / \\sqrt{N}$"
   ]
  },
  {
   "cell_type": "code",
   "execution_count": 9,
   "metadata": {},
   "outputs": [],
   "source": [
    "s20 = pd.DataFrame()\n",
    "for i in range(20):\n",
    "    col='s'+str(i)\n",
    "    s20[col]= get_sample(n=N, p=p, error=0.0)\n"
   ]
  },
  {
   "cell_type": "code",
   "execution_count": 10,
   "metadata": {},
   "outputs": [
    {
     "data": {
      "text/html": [
       "<div>\n",
       "<style scoped>\n",
       "    .dataframe tbody tr th:only-of-type {\n",
       "        vertical-align: middle;\n",
       "    }\n",
       "\n",
       "    .dataframe tbody tr th {\n",
       "        vertical-align: top;\n",
       "    }\n",
       "\n",
       "    .dataframe thead th {\n",
       "        text-align: right;\n",
       "    }\n",
       "</style>\n",
       "<table border=\"1\" class=\"dataframe\">\n",
       "  <thead>\n",
       "    <tr style=\"text-align: right;\">\n",
       "      <th></th>\n",
       "      <th>s0</th>\n",
       "      <th>s1</th>\n",
       "      <th>s2</th>\n",
       "      <th>s3</th>\n",
       "      <th>s4</th>\n",
       "      <th>s5</th>\n",
       "      <th>s6</th>\n",
       "      <th>s7</th>\n",
       "      <th>s8</th>\n",
       "      <th>s9</th>\n",
       "      <th>s10</th>\n",
       "      <th>s11</th>\n",
       "      <th>s12</th>\n",
       "      <th>s13</th>\n",
       "      <th>s14</th>\n",
       "      <th>s15</th>\n",
       "      <th>s16</th>\n",
       "      <th>s17</th>\n",
       "      <th>s18</th>\n",
       "      <th>s19</th>\n",
       "    </tr>\n",
       "  </thead>\n",
       "  <tbody>\n",
       "    <tr>\n",
       "      <th>0</th>\n",
       "      <td>1</td>\n",
       "      <td>1</td>\n",
       "      <td>1</td>\n",
       "      <td>1</td>\n",
       "      <td>1</td>\n",
       "      <td>1</td>\n",
       "      <td>0</td>\n",
       "      <td>1</td>\n",
       "      <td>0</td>\n",
       "      <td>1</td>\n",
       "      <td>0</td>\n",
       "      <td>1</td>\n",
       "      <td>1</td>\n",
       "      <td>1</td>\n",
       "      <td>0</td>\n",
       "      <td>1</td>\n",
       "      <td>1</td>\n",
       "      <td>0</td>\n",
       "      <td>0</td>\n",
       "      <td>1</td>\n",
       "    </tr>\n",
       "    <tr>\n",
       "      <th>1</th>\n",
       "      <td>1</td>\n",
       "      <td>1</td>\n",
       "      <td>1</td>\n",
       "      <td>1</td>\n",
       "      <td>0</td>\n",
       "      <td>1</td>\n",
       "      <td>1</td>\n",
       "      <td>1</td>\n",
       "      <td>0</td>\n",
       "      <td>1</td>\n",
       "      <td>1</td>\n",
       "      <td>1</td>\n",
       "      <td>1</td>\n",
       "      <td>1</td>\n",
       "      <td>1</td>\n",
       "      <td>0</td>\n",
       "      <td>0</td>\n",
       "      <td>0</td>\n",
       "      <td>1</td>\n",
       "      <td>0</td>\n",
       "    </tr>\n",
       "    <tr>\n",
       "      <th>2</th>\n",
       "      <td>0</td>\n",
       "      <td>1</td>\n",
       "      <td>1</td>\n",
       "      <td>0</td>\n",
       "      <td>0</td>\n",
       "      <td>0</td>\n",
       "      <td>1</td>\n",
       "      <td>0</td>\n",
       "      <td>1</td>\n",
       "      <td>0</td>\n",
       "      <td>1</td>\n",
       "      <td>1</td>\n",
       "      <td>0</td>\n",
       "      <td>0</td>\n",
       "      <td>1</td>\n",
       "      <td>1</td>\n",
       "      <td>1</td>\n",
       "      <td>1</td>\n",
       "      <td>1</td>\n",
       "      <td>1</td>\n",
       "    </tr>\n",
       "  </tbody>\n",
       "</table>\n",
       "</div>"
      ],
      "text/plain": [
       "   s0  s1  s2  s3  s4  s5  s6  s7  s8  s9  s10  s11  s12  s13  s14  s15  s16  \\\n",
       "0   1   1   1   1   1   1   0   1   0   1    0    1    1    1    0    1    1   \n",
       "1   1   1   1   1   0   1   1   1   0   1    1    1    1    1    1    0    0   \n",
       "2   0   1   1   0   0   0   1   0   1   0    1    1    0    0    1    1    1   \n",
       "\n",
       "   s17  s18  s19  \n",
       "0    0    0    1  \n",
       "1    0    1    0  \n",
       "2    1    1    1  "
      ]
     },
     "execution_count": 10,
     "metadata": {},
     "output_type": "execute_result"
    }
   ],
   "source": [
    "s20.head(3)"
   ]
  },
  {
   "cell_type": "code",
   "execution_count": 11,
   "metadata": {},
   "outputs": [
    {
     "data": {
      "text/html": [
       "<div>\n",
       "<style scoped>\n",
       "    .dataframe tbody tr th:only-of-type {\n",
       "        vertical-align: middle;\n",
       "    }\n",
       "\n",
       "    .dataframe tbody tr th {\n",
       "        vertical-align: top;\n",
       "    }\n",
       "\n",
       "    .dataframe thead th {\n",
       "        text-align: right;\n",
       "    }\n",
       "</style>\n",
       "<table border=\"1\" class=\"dataframe\">\n",
       "  <thead>\n",
       "    <tr style=\"text-align: right;\">\n",
       "      <th></th>\n",
       "      <th>estimate</th>\n",
       "    </tr>\n",
       "  </thead>\n",
       "  <tbody>\n",
       "    <tr>\n",
       "      <th>s0</th>\n",
       "      <td>60</td>\n",
       "    </tr>\n",
       "    <tr>\n",
       "      <th>s1</th>\n",
       "      <td>70</td>\n",
       "    </tr>\n",
       "    <tr>\n",
       "      <th>s2</th>\n",
       "      <td>80</td>\n",
       "    </tr>\n",
       "    <tr>\n",
       "      <th>s3</th>\n",
       "      <td>75</td>\n",
       "    </tr>\n",
       "    <tr>\n",
       "      <th>s4</th>\n",
       "      <td>65</td>\n",
       "    </tr>\n",
       "  </tbody>\n",
       "</table>\n",
       "</div>"
      ],
      "text/plain": [
       "    estimate\n",
       "s0        60\n",
       "s1        70\n",
       "s2        80\n",
       "s3        75\n",
       "s4        65"
      ]
     },
     "execution_count": 11,
     "metadata": {},
     "output_type": "execute_result"
    }
   ],
   "source": [
    "# The sum of the columns is our results.  20 repitions of N=100 samples\n",
    "results = pd.DataFrame( {'estimate' : s20.sum(0)})\n",
    "results.head()"
   ]
  },
  {
   "cell_type": "code",
   "execution_count": 14,
   "metadata": {},
   "outputs": [
    {
     "name": "stdout",
     "output_type": "stream",
     "text": [
      "70.75\n",
      "The estimate of the mean is likely to be within 1.05 of the true mean\n"
     ]
    }
   ],
   "source": [
    "# After 20 polls, our mean should become a better estimate - with it's own standard deviation of sigma/sqrt(N-1)\n",
    "print(results.estimate.mean())\n",
    "# The theoreitcal standard deviation of the estimate: sigma/sqrt(N-1)\n",
    "print(\"The estimate of the mean is likely to be within {0:2.2f} of the true mean\".format(_sstd/np.sqrt(20-1)))"
   ]
  },
  {
   "cell_type": "code",
   "execution_count": 15,
   "metadata": {},
   "outputs": [
    {
     "name": "stdout",
     "output_type": "stream",
     "text": [
      "The estimate of the standard devaition 5.35\n"
     ]
    }
   ],
   "source": [
    "# This estimates the actual standard deviation\n",
    "print(\"The estimate of the standard devaition is {0:2.2f}\".format(results.estimate.std()))\n"
   ]
  },
  {
   "cell_type": "code",
   "execution_count": 17,
   "metadata": {},
   "outputs": [
    {
     "data": {
      "text/plain": [
       "array([[<matplotlib.axes._subplots.AxesSubplot object at 0x112256110>]],\n",
       "      dtype=object)"
      ]
     },
     "execution_count": 17,
     "metadata": {},
     "output_type": "execute_result"
    },
    {
     "data": {
      "image/png": "[encoded data removed]",
      "text/plain": [
       "<matplotlib.figure.Figure at 0x1122f0050>"
      ]
     },
     "metadata": {
      "needs_background": "light"
     },
     "output_type": "display_data"
    }
   ],
   "source": [
    "# we can take a quick look at the histogram\n",
    "results.hist(figsize=(8,4))"
   ]
  },
  {
   "cell_type": "code",
   "execution_count": 22,
   "metadata": {},
   "outputs": [],
   "source": [
    "# Let's do this for a larger set of simulations, say 100\n",
    "s100 = pd.DataFrame()\n",
    "for i in range(100):\n",
    "    col='s'+str(i)\n",
    "    s100[col]= get_sample(n=N, p=p, error=0.0)\n",
    "r100 = pd.DataFrame( {'estimate' : s100.sum(0)})"
   ]
  },
  {
   "cell_type": "code",
   "execution_count": 25,
   "metadata": {},
   "outputs": [
    {
     "name": "stdout",
     "output_type": "stream",
     "text": [
      "Real mean likely to be within 0.46 of estimate of the mean\n",
      "100 Trials, mean of the estimate 69.08\n",
      "100 Trials, standard deviation of the estimate 4.76\n"
     ]
    }
   ],
   "source": [
    "# The estimate mean should be a slightly better estimate of the real mean withing sigma/sqrt(100 - 1)\n",
    "print(\"Real mean likely to be within {0:2.2f} of estimate of the mean\".format(_sstd/np.sqrt(100-1)))\n",
    "print(\"100 Trials, mean of the estimate {0:2.2f}\".format(r100.estimate.mean()))\n",
    "print(\"100 Trials, standard deviation of the estimate {0:2.2f}\".format(r100.estimate.std()))"
   ]
  },
  {
   "cell_type": "code",
   "execution_count": 26,
   "metadata": {},
   "outputs": [
    {
     "data": {
      "text/plain": [
       "array([[<matplotlib.axes._subplots.AxesSubplot object at 0x112402850>]],\n",
       "      dtype=object)"
      ]
     },
     "execution_count": 26,
     "metadata": {},
     "output_type": "execute_result"
    },
    {
     "data": {
      "image/png": "[encoded data removed]",
      "text/plain": [
       "<matplotlib.figure.Figure at 0x112478e90>"
      ]
     },
     "metadata": {
      "needs_background": "light"
     },
     "output_type": "display_data"
    }
   ],
   "source": [
    "r100.hist()"
   ]
  },
  {
   "cell_type": "code",
   "execution_count": 35,
   "metadata": {},
   "outputs": [],
   "source": [
    "# And again for a larger set of simulations, say 1000\n",
    "s1000 = pd.DataFrame()\n",
    "for i in range(1000):\n",
    "    col='s'+str(i)\n",
    "    s1000[col]= get_sample(n=N, p=p, error=0.0)\n",
    "r1000 = pd.DataFrame( {'estimate' : s1000.sum(0)})"
   ]
  },
  {
   "cell_type": "code",
   "execution_count": 36,
   "metadata": {},
   "outputs": [
    {
     "name": "stdout",
     "output_type": "stream",
     "text": [
      "Real mean likely to be within 0.14 of estimate of the mean\n",
      "1000 Trials, mean of the estimate 70.10\n",
      "1000 Trials, standard deviation of the estimate 4.44\n"
     ]
    }
   ],
   "source": [
    "# The estimate mean should be a slightly better estimate of the real mean withing sigma/sqrt(1000 - 1)\n",
    "print(\"Real mean likely to be within {0:2.2f} of estimate of the mean\".format(_sstd/np.sqrt(1000-1)))\n",
    "print(\"1000 Trials, mean of the estimate {0:2.2f}\".format(r1000.estimate.mean()))\n",
    "print(\"1000 Trials, standard deviation of the estimate {0:2.2f}\".format(r1000.estimate.std()))"
   ]
  },
  {
   "cell_type": "code",
   "execution_count": 37,
   "metadata": {},
   "outputs": [
    {
     "data": {
      "text/plain": [
       "array([[<matplotlib.axes._subplots.AxesSubplot object at 0x1129722d0>]],\n",
       "      dtype=object)"
      ]
     },
     "execution_count": 37,
     "metadata": {},
     "output_type": "execute_result"
    },
    {
     "data": {
      "image/png": "[encoded data removed]",
      "text/plain": [
       "<matplotlib.figure.Figure at 0x112972910>"
      ]
     },
     "metadata": {
      "needs_background": "light"
     },
     "output_type": "display_data"
    }
   ],
   "source": [
    "r1000.hist(bins=20)"
   ]
  },
  {
   "cell_type": "markdown",
   "metadata": {},
   "source": [
    "## Add in stochastic noise\n",
    "\n",
    "What if in a real poll with a binary y/n type question, there's a systematic polling error?  For example, what if 10% of the population misinterprets the question, or misreads the question.  How would this effect our polling results?\n",
    "\n",
    "In this model, say, 90% of the polling is expected to sample from the true distribution $B_p$ while 10% is expected to sample stochastically from $B_{0.5}$\n",
    "\n",
    "We can calculate the true Expected mean as $E[X] = 0.9 \\times E[X ~ B_p] + 0.1 \\times E[X ~ B_{0.5}] = 0.68 $ "
   ]
  },
  {
   "cell_type": "code",
   "execution_count": 46,
   "metadata": {},
   "outputs": [
    {
     "data": {
      "text/plain": [
       "0.68"
      ]
     },
     "execution_count": 46,
     "metadata": {},
     "output_type": "execute_result"
    }
   ],
   "source": [
    "# Real expected mean:\n",
    "0.9*0.7 + 0.1 * 0.5"
   ]
  },
  {
   "cell_type": "code",
   "execution_count": 47,
   "metadata": {},
   "outputs": [],
   "source": [
    "# Let's start with doing 20 trials\n",
    "# However, now there's a 10% polling error rate, that is, 10% of respondents answer randomly\n",
    "ss20 = pd.DataFrame()\n",
    "for i in range(20):\n",
    "    col='s'+str(i)\n",
    "    ss20[col]= get_sample(n=N, p=p, error=0.1)\n"
   ]
  },
  {
   "cell_type": "code",
   "execution_count": 48,
   "metadata": {},
   "outputs": [
    {
     "data": {
      "text/plain": [
       "67"
      ]
     },
     "execution_count": 48,
     "metadata": {},
     "output_type": "execute_result"
    }
   ],
   "source": [
    "# For a single trial, we expect the mean to go down from 70 to something closer to 68\n",
    "ss20.s0.sum()"
   ]
  },
  {
   "cell_type": "code",
   "execution_count": 49,
   "metadata": {},
   "outputs": [],
   "source": [
    "rs20 = pd.DataFrame( {'estimate' : ss20.sum(0)})"
   ]
  },
  {
   "cell_type": "code",
   "execution_count": 50,
   "metadata": {},
   "outputs": [
    {
     "name": "stdout",
     "output_type": "stream",
     "text": [
      "Ideally, real mean woulbd likely to be within 1.05 of estimate of the mean\n",
      "However, \n",
      "20 Trials, mean of the estimate 69.05\n",
      "20 Trials, standard deviation of the estimate 3.69\n"
     ]
    }
   ],
   "source": [
    "# The estimate mean should now *NO LONGER ESTIMATE*  the real distribution, mean withing sigma/sqrt(20 - 1)\n",
    "print(\"Ideally, real mean woulbd likely to be within {0:2.2f} of estimate of the mean\".format(_sstd/np.sqrt(20-1)))\n",
    "print(\"However, \")\n",
    "print(\"20 Trials, mean of the estimate {0:2.2f}\".format(rs20.estimate.mean()))\n",
    "print(\"20 Trials, standard deviation of the estimate {0:2.2f}\".format(rs20.estimate.std()))"
   ]
  },
  {
   "cell_type": "code",
   "execution_count": 52,
   "metadata": {},
   "outputs": [
    {
     "data": {
      "text/plain": [
       "array([[<matplotlib.axes._subplots.AxesSubplot object at 0x112eb1110>]],\n",
       "      dtype=object)"
      ]
     },
     "execution_count": 52,
     "metadata": {},
     "output_type": "execute_result"
    },
    {
     "data": {
      "image/png": "[encoded data removed]",
      "text/plain": [
       "<matplotlib.figure.Figure at 0x112cb73d0>"
      ]
     },
     "metadata": {
      "needs_background": "light"
     },
     "output_type": "display_data"
    }
   ],
   "source": [
    "rs20.hist(bins=15)"
   ]
  },
  {
   "cell_type": "code",
   "execution_count": 57,
   "metadata": {},
   "outputs": [],
   "source": [
    "# Let's do 1 more.  1000 trials with N=100, from a mixture: 70% binomial distribution, and 50% binomial\n",
    "# However, now there's a 10% polling error rate, that is, 10% of respondents answer randomly\n",
    "ss1000 = pd.DataFrame()\n",
    "for i in range(1000):\n",
    "    col='s'+str(i)\n",
    "    ss1000[col]= get_sample(n=N, p=p, error=0.1)\n",
    "rs1000 = pd.DataFrame( {'estimate' : ss1000.sum(0)})"
   ]
  },
  {
   "cell_type": "code",
   "execution_count": 58,
   "metadata": {},
   "outputs": [
    {
     "name": "stdout",
     "output_type": "stream",
     "text": [
      "Ideally, real mean would likely to be within 0.14 of estimate of the mean\n",
      "However, \n",
      "1000 Trials, mean of the estimate 67.87\n",
      "1000 Trials, standard deviation of the estimate 4.62\n"
     ]
    }
   ],
   "source": [
    "# 1000 trials from our stochastic mixture\n",
    "print(\"Ideally, real mean would likely to be within {0:2.2f} of estimate of the mean\".format(_sstd/np.sqrt(1000-1)))\n",
    "print(\"However, \")\n",
    "print(\"1000 Trials, mean of the estimate {0:2.2f}\".format(rs1000.estimate.mean()))\n",
    "print(\"1000 Trials, standard deviation of the estimate {0:2.2f}\".format(rs1000.estimate.std()))"
   ]
  },
  {
   "cell_type": "code",
   "execution_count": 84,
   "metadata": {},
   "outputs": [
    {
     "data": {
      "text/plain": [
       "array([[<matplotlib.axes._subplots.AxesSubplot object at 0x11363c750>]],\n",
       "      dtype=object)"
      ]
     },
     "execution_count": 84,
     "metadata": {},
     "output_type": "execute_result"
    },
    {
     "data": {
      "image/png": "[encoded data removed]",
      "text/plain": [
       "<matplotlib.figure.Figure at 0x1135c10d0>"
      ]
     },
     "metadata": {
      "needs_background": "light"
     },
     "output_type": "display_data"
    }
   ],
   "source": [
    "# With 10% noise - the true mean is shifted from the actual population distribution, 70% to 68%\n",
    "rs1000.hist(bins=15)"
   ]
  },
  {
   "cell_type": "markdown",
   "metadata": {},
   "source": [
    "### Let's create another stochastic model\n",
    "\n",
    "What if the true population distribution was heavily for something, say p = 0.85, or 85% of the population would actually agree with the question.  However, let's say the systematic error is higher, say 20%, that is 20% will misread the question?  \n",
    "\n",
    "What would the data show in this case?\n",
    "\n",
    "In this case the conclusions from the poll trials would be quite different from the real underlying distribution.\n",
    "\n",
    "\n"
   ]
  },
  {
   "cell_type": "code",
   "execution_count": 62,
   "metadata": {},
   "outputs": [
    {
     "data": {
      "text/plain": [
       "0.78"
      ]
     },
     "execution_count": 62,
     "metadata": {},
     "output_type": "execute_result"
    }
   ],
   "source": [
    "# The real expected mean:\n",
    "ss2_mean = 0.8*0.85 + 0.2 * 0.5\n",
    "ss2_mean"
   ]
  },
  {
   "cell_type": "code",
   "execution_count": 68,
   "metadata": {},
   "outputs": [],
   "source": [
    "# Let's do 1 more.  1000 trials with N=100, from a mixture: 70% binomial distribution, and 50% binomial\n",
    "# However, now there's a 10% polling error rate, that is, 10% of respondents answer randomly\n",
    "ss2 = pd.DataFrame()\n",
    "for i in range(1000):\n",
    "    col='s'+str(i)\n",
    "    ss2[col]= get_sample(n=N, p=0.85, error=0.2)\n",
    "rs2 = pd.DataFrame( {'estimate' : ss2.sum(0)})"
   ]
  },
  {
   "cell_type": "code",
   "execution_count": 69,
   "metadata": {},
   "outputs": [
    {
     "name": "stdout",
     "output_type": "stream",
     "text": [
      "Ideally, real mean would likely to be within 0.04 of estimate of the mean\n",
      "However, \n",
      "1000 Trials, mean of the estimate 78.25\n",
      "1000 Trials, standard deviation of the estimate 4.13\n"
     ]
    }
   ],
   "source": [
    "# Ok, 1000 trials were performed from our new stochastic mixture\n",
    "# This is a new rough estimate of the std\n",
    "\n",
    "_ss2_std=np.sqrt(N*0.85*.015)\n",
    "print(\"Ideally, real mean would likely to be within {0:2.2f} of estimate of the mean\".format(_ss2_std/np.sqrt(1000-1)))\n",
    "print(\"However, \")\n",
    "print(\"1000 Trials, mean of the estimate {0:2.2f}\".format(rs2.estimate.mean()))\n",
    "print(\"1000 Trials, standard deviation of the estimate {0:2.2f}\".format(rs2.estimate.std()))"
   ]
  },
  {
   "cell_type": "code",
   "execution_count": 85,
   "metadata": {},
   "outputs": [
    {
     "data": {
      "text/plain": [
       "array([[<matplotlib.axes._subplots.AxesSubplot object at 0x1135a5750>]],\n",
       "      dtype=object)"
      ]
     },
     "execution_count": 85,
     "metadata": {},
     "output_type": "execute_result"
    },
    {
     "data": {
      "image/png": "[encoded data removed]",
      "text/plain": [
       "<matplotlib.figure.Figure at 0x112f57dd0>"
      ]
     },
     "metadata": {
      "needs_background": "light"
     },
     "output_type": "display_data"
    }
   ],
   "source": [
    "# Now - with this 20% noise, and the actual population distribution with p of 85%, the \n",
    "# samples would no longer give a good estimate of the real population mean\n",
    "rs2.hist(bins=15)"
   ]
  },
  {
   "cell_type": "code",
   "execution_count": null,
   "metadata": {},
   "outputs": [],
   "source": []
  }
 ],
 "metadata": {
  "kernelspec": {
   "display_name": "Python 2",
   "language": "python",
   "name": "python2"
  },
  "language_info": {
   "codemirror_mode": {
    "name": "ipython",
    "version": 2
   },
   "file_extension": ".py",
   "mimetype": "text/x-python",
   "name": "python",
   "nbconvert_exporter": "python",
   "pygments_lexer": "ipython2",
   "version": "2.7.15"
  }
 },
 "nbformat": 4,
 "nbformat_minor": 2
}
